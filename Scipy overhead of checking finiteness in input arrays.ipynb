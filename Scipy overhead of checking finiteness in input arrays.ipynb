{
 "cells": [
  {
   "cell_type": "markdown",
   "metadata": {},
   "source": [
    "Summary\n",
    "-------\n",
    "\n",
    "This note illustrates an easily overlooked but significant overhead of `scipy.linalg`'s Cholesky solver, [`scipy.linalg.cho_solve`](https://scipy.github.io/devdocs/generated/scipy.linalg.cho_solve.html#scipy.linalg.cho_solve).\n",
    "\n",
    "Motivation\n",
    "----------\n",
    "\n",
    "The Cholesky solver solves the linear system $A x = b$ for Hermitian positive-definite matrix $A$ using its Cholesky factorization, which is calculated by [`scipy.linalg.cho_factor`](https://scipy.github.io/devdocs/generated/scipy.linalg.cho_factor.html#scipy.linalg.cho_factor).  The functions are wrappers for LAPACK functions `?POTRS` and `?POTRF` respectively, and their performance largely depends on the underyling LAPACK implementation.\n",
    "\n",
    "A nice feature of `scipy` is of course its safety.  Both functions include an optional check for infinities and NaNs in its input arrays.  This check is on by default.\n",
    "\n",
    "However, the cost associated with the check can be pretty high.  Currently, this check is done by the `numpy` function `numpy.isfinite` which does *not* short-circuit on first non-finite (or first NaN) element!  The function returns a whole Boolean array with as many elements as its input.  Then, in the implementation of the function `numpy.asarray_chkfinite`, the whole Boolean array is `AND`ed (short-circuitedly, using `numpy.ndarray.all()` method) to see if there's a `False`.  This adds an $\\mathcal{O}(n^2)$ overhead.\n",
    "\n",
    "The following benchmark, with commentaries, shows how large this overhead can be.\n",
    "\n",
    "Benchmark\n",
    "---------\n",
    "\n",
    "First, we mock up some numbers for benchmarking."
   ]
  },
  {
   "cell_type": "code",
   "execution_count": 1,
   "metadata": {
    "collapsed": true
   },
   "outputs": [],
   "source": [
    "import numpy\n",
    "import scipy.linalg\n",
    "\n",
    "\n",
    "N = 2048\n",
    "a = numpy.random.random(N)\n",
    "b = numpy.random.random(N)"
   ]
  },
  {
   "cell_type": "markdown",
   "metadata": {},
   "source": [
    "We need some Hermitian, positive-definite matrix as input.  This can be done using the outer-product trick."
   ]
  },
  {
   "cell_type": "code",
   "execution_count": 2,
   "metadata": {
    "collapsed": true
   },
   "outputs": [],
   "source": [
    "c = numpy.outer(a, a)\n",
    "c[numpy.diag_indices_from(c)] += 5.0 + numpy.random.random(N)"
   ]
  },
  {
   "cell_type": "markdown",
   "metadata": {},
   "source": [
    "This matrix `c` is, by construction, Hermitian and positive-definite.  If you're paranoid about its symmetry, you can always do this:"
   ]
  },
  {
   "cell_type": "code",
   "execution_count": 3,
   "metadata": {
    "collapsed": true
   },
   "outputs": [],
   "source": [
    "c = c + c.T\n",
    "c *= 0.5"
   ]
  },
  {
   "cell_type": "markdown",
   "metadata": {},
   "source": [
    "Now the Cholesky factor of `c`:"
   ]
  },
  {
   "cell_type": "code",
   "execution_count": 4,
   "metadata": {
    "collapsed": true
   },
   "outputs": [],
   "source": [
    "cfac = scipy.linalg.cho_factor(c)"
   ]
  },
  {
   "cell_type": "markdown",
   "metadata": {},
   "source": [
    "We're ready for the benchmark now."
   ]
  },
  {
   "cell_type": "code",
   "execution_count": 5,
   "metadata": {
    "collapsed": false
   },
   "outputs": [
    {
     "name": "stdout",
     "output_type": "stream",
     "text": [
      "100 loops, best of 3: 11.9 ms per loop\n"
     ]
    }
   ],
   "source": [
    "t_chk = %timeit -o scipy.linalg.cho_solve(cfac, b)"
   ]
  },
  {
   "cell_type": "code",
   "execution_count": 6,
   "metadata": {
    "collapsed": false
   },
   "outputs": [
    {
     "name": "stdout",
     "output_type": "stream",
     "text": [
      "100 loops, best of 3: 3.3 ms per loop\n"
     ]
    }
   ],
   "source": [
    "t_nochk = %timeit -o scipy.linalg.cho_solve(cfac, b, check_finite=False)"
   ]
  },
  {
   "cell_type": "markdown",
   "metadata": {},
   "source": [
    "The speed-up is..."
   ]
  },
  {
   "cell_type": "code",
   "execution_count": 7,
   "metadata": {
    "collapsed": false
   },
   "outputs": [
    {
     "name": "stdout",
     "output_type": "stream",
     "text": [
      "Speed-up (best-of-3): 259.3%\n"
     ]
    }
   ],
   "source": [
    "print \"Speed-up (best-of-%d): %.1f%%\" % (t_chk.repeat, (t_chk.best / t_nochk.best - 1) * 100)"
   ]
  },
  {
   "cell_type": "markdown",
   "metadata": {},
   "source": [
    "Wow!\n",
    "\n",
    "---\n",
    "\n",
    "Just to make sure in this case we're not missing anything by turning off `check_finite`:"
   ]
  },
  {
   "cell_type": "code",
   "execution_count": 8,
   "metadata": {
    "collapsed": false
   },
   "outputs": [
    {
     "data": {
      "text/plain": [
       "True"
      ]
     },
     "execution_count": 8,
     "metadata": {},
     "output_type": "execute_result"
    }
   ],
   "source": [
    "numpy.allclose(scipy.linalg.cho_solve(cfac, b), scipy.linalg.cho_solve(cfac, b, check_finite=False))"
   ]
  },
  {
   "cell_type": "markdown",
   "metadata": {},
   "source": [
    "Finally, let's see if there are any CPU cycles to squeeze by calling the LAPACK function directly (without the other administrative overhead of `scipy`):"
   ]
  },
  {
   "cell_type": "code",
   "execution_count": 9,
   "metadata": {
    "collapsed": false
   },
   "outputs": [
    {
     "name": "stdout",
     "output_type": "stream",
     "text": [
      "100 loops, best of 3: 3.29 ms per loop\n"
     ]
    }
   ],
   "source": [
    "%timeit scipy.linalg.lapack.dpotrs(cfac[0], b, lower=cfac[1], overwrite_b=False)"
   ]
  },
  {
   "cell_type": "markdown",
   "metadata": {},
   "source": [
    "It turns out there's not much to squeeze.  In fact, it may be worse sometimes.  (This may be a limitation of running `%timeit` in a notebook.  Actually, if it's run directly in `IPython`, there's indeed a tiny, but positive speed-up.)\n",
    "\n",
    "Conclusion\n",
    "----------\n",
    "\n",
    "There's a massive overhead with `check_finite=True` in the Cholesky linear-system solver.  The check protects against possible non-termination of the LAPACK function, but when you're *sure* there's no such risk, removing the check could boost performance by a lot.  Really a lot."
   ]
  }
 ],
 "metadata": {
  "kernelspec": {
   "display_name": "Python 2",
   "language": "python",
   "name": "python2"
  },
  "language_info": {
   "codemirror_mode": {
    "name": "ipython",
    "version": 2
   },
   "file_extension": ".py",
   "mimetype": "text/x-python",
   "name": "python",
   "nbconvert_exporter": "python",
   "pygments_lexer": "ipython2",
   "version": "2.7.11"
  }
 },
 "nbformat": 4,
 "nbformat_minor": 0
}
